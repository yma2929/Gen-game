{
  "nbformat": 4,
  "nbformat_minor": 0,
  "metadata": {
    "colab": {
      "provenance": [],
      "include_colab_link": true
    },
    "kernelspec": {
      "name": "python3",
      "display_name": "Python 3"
    },
    "language_info": {
      "name": "python"
    }
  },
  "cells": [
    {
      "cell_type": "markdown",
      "metadata": {
        "id": "view-in-github",
        "colab_type": "text"
      },
      "source": [
        "<a href=\"https://colab.research.google.com/github/yma2929/Gen-game/blob/main/Gen_game!.ipynb\" target=\"_parent\"><img src=\"https://colab.research.google.com/assets/colab-badge.svg\" alt=\"Open In Colab\"/></a>"
      ]
    },
    {
      "cell_type": "code",
      "execution_count": null,
      "metadata": {
        "colab": {
          "base_uri": "https://localhost:8080/",
          "height": 73
        },
        "id": "31lMdvSw4HHs",
        "outputId": "b7119c22-5d9a-4425-b8cf-f324ba9451c5"
      },
      "outputs": [
        {
          "output_type": "display_data",
          "data": {
            "text/plain": [
              "<IPython.core.display.HTML object>"
            ],
            "text/html": [
              "\n",
              "     <input type=\"file\" id=\"files-ec26e551-0cfd-4f9c-89cf-f90778102144\" name=\"files[]\" multiple disabled\n",
              "        style=\"border:none\" />\n",
              "     <output id=\"result-ec26e551-0cfd-4f9c-89cf-f90778102144\">\n",
              "      Upload widget is only available when the cell has been executed in the\n",
              "      current browser session. Please rerun this cell to enable.\n",
              "      </output>\n",
              "      <script>// Copyright 2017 Google LLC\n",
              "//\n",
              "// Licensed under the Apache License, Version 2.0 (the \"License\");\n",
              "// you may not use this file except in compliance with the License.\n",
              "// You may obtain a copy of the License at\n",
              "//\n",
              "//      http://www.apache.org/licenses/LICENSE-2.0\n",
              "//\n",
              "// Unless required by applicable law or agreed to in writing, software\n",
              "// distributed under the License is distributed on an \"AS IS\" BASIS,\n",
              "// WITHOUT WARRANTIES OR CONDITIONS OF ANY KIND, either express or implied.\n",
              "// See the License for the specific language governing permissions and\n",
              "// limitations under the License.\n",
              "\n",
              "/**\n",
              " * @fileoverview Helpers for google.colab Python module.\n",
              " */\n",
              "(function(scope) {\n",
              "function span(text, styleAttributes = {}) {\n",
              "  const element = document.createElement('span');\n",
              "  element.textContent = text;\n",
              "  for (const key of Object.keys(styleAttributes)) {\n",
              "    element.style[key] = styleAttributes[key];\n",
              "  }\n",
              "  return element;\n",
              "}\n",
              "\n",
              "// Max number of bytes which will be uploaded at a time.\n",
              "const MAX_PAYLOAD_SIZE = 100 * 1024;\n",
              "\n",
              "function _uploadFiles(inputId, outputId) {\n",
              "  const steps = uploadFilesStep(inputId, outputId);\n",
              "  const outputElement = document.getElementById(outputId);\n",
              "  // Cache steps on the outputElement to make it available for the next call\n",
              "  // to uploadFilesContinue from Python.\n",
              "  outputElement.steps = steps;\n",
              "\n",
              "  return _uploadFilesContinue(outputId);\n",
              "}\n",
              "\n",
              "// This is roughly an async generator (not supported in the browser yet),\n",
              "// where there are multiple asynchronous steps and the Python side is going\n",
              "// to poll for completion of each step.\n",
              "// This uses a Promise to block the python side on completion of each step,\n",
              "// then passes the result of the previous step as the input to the next step.\n",
              "function _uploadFilesContinue(outputId) {\n",
              "  const outputElement = document.getElementById(outputId);\n",
              "  const steps = outputElement.steps;\n",
              "\n",
              "  const next = steps.next(outputElement.lastPromiseValue);\n",
              "  return Promise.resolve(next.value.promise).then((value) => {\n",
              "    // Cache the last promise value to make it available to the next\n",
              "    // step of the generator.\n",
              "    outputElement.lastPromiseValue = value;\n",
              "    return next.value.response;\n",
              "  });\n",
              "}\n",
              "\n",
              "/**\n",
              " * Generator function which is called between each async step of the upload\n",
              " * process.\n",
              " * @param {string} inputId Element ID of the input file picker element.\n",
              " * @param {string} outputId Element ID of the output display.\n",
              " * @return {!Iterable<!Object>} Iterable of next steps.\n",
              " */\n",
              "function* uploadFilesStep(inputId, outputId) {\n",
              "  const inputElement = document.getElementById(inputId);\n",
              "  inputElement.disabled = false;\n",
              "\n",
              "  const outputElement = document.getElementById(outputId);\n",
              "  outputElement.innerHTML = '';\n",
              "\n",
              "  const pickedPromise = new Promise((resolve) => {\n",
              "    inputElement.addEventListener('change', (e) => {\n",
              "      resolve(e.target.files);\n",
              "    });\n",
              "  });\n",
              "\n",
              "  const cancel = document.createElement('button');\n",
              "  inputElement.parentElement.appendChild(cancel);\n",
              "  cancel.textContent = 'Cancel upload';\n",
              "  const cancelPromise = new Promise((resolve) => {\n",
              "    cancel.onclick = () => {\n",
              "      resolve(null);\n",
              "    };\n",
              "  });\n",
              "\n",
              "  // Wait for the user to pick the files.\n",
              "  const files = yield {\n",
              "    promise: Promise.race([pickedPromise, cancelPromise]),\n",
              "    response: {\n",
              "      action: 'starting',\n",
              "    }\n",
              "  };\n",
              "\n",
              "  cancel.remove();\n",
              "\n",
              "  // Disable the input element since further picks are not allowed.\n",
              "  inputElement.disabled = true;\n",
              "\n",
              "  if (!files) {\n",
              "    return {\n",
              "      response: {\n",
              "        action: 'complete',\n",
              "      }\n",
              "    };\n",
              "  }\n",
              "\n",
              "  for (const file of files) {\n",
              "    const li = document.createElement('li');\n",
              "    li.append(span(file.name, {fontWeight: 'bold'}));\n",
              "    li.append(span(\n",
              "        `(${file.type || 'n/a'}) - ${file.size} bytes, ` +\n",
              "        `last modified: ${\n",
              "            file.lastModifiedDate ? file.lastModifiedDate.toLocaleDateString() :\n",
              "                                    'n/a'} - `));\n",
              "    const percent = span('0% done');\n",
              "    li.appendChild(percent);\n",
              "\n",
              "    outputElement.appendChild(li);\n",
              "\n",
              "    const fileDataPromise = new Promise((resolve) => {\n",
              "      const reader = new FileReader();\n",
              "      reader.onload = (e) => {\n",
              "        resolve(e.target.result);\n",
              "      };\n",
              "      reader.readAsArrayBuffer(file);\n",
              "    });\n",
              "    // Wait for the data to be ready.\n",
              "    let fileData = yield {\n",
              "      promise: fileDataPromise,\n",
              "      response: {\n",
              "        action: 'continue',\n",
              "      }\n",
              "    };\n",
              "\n",
              "    // Use a chunked sending to avoid message size limits. See b/62115660.\n",
              "    let position = 0;\n",
              "    do {\n",
              "      const length = Math.min(fileData.byteLength - position, MAX_PAYLOAD_SIZE);\n",
              "      const chunk = new Uint8Array(fileData, position, length);\n",
              "      position += length;\n",
              "\n",
              "      const base64 = btoa(String.fromCharCode.apply(null, chunk));\n",
              "      yield {\n",
              "        response: {\n",
              "          action: 'append',\n",
              "          file: file.name,\n",
              "          data: base64,\n",
              "        },\n",
              "      };\n",
              "\n",
              "      let percentDone = fileData.byteLength === 0 ?\n",
              "          100 :\n",
              "          Math.round((position / fileData.byteLength) * 100);\n",
              "      percent.textContent = `${percentDone}% done`;\n",
              "\n",
              "    } while (position < fileData.byteLength);\n",
              "  }\n",
              "\n",
              "  // All done.\n",
              "  yield {\n",
              "    response: {\n",
              "      action: 'complete',\n",
              "    }\n",
              "  };\n",
              "}\n",
              "\n",
              "scope.google = scope.google || {};\n",
              "scope.google.colab = scope.google.colab || {};\n",
              "scope.google.colab._files = {\n",
              "  _uploadFiles,\n",
              "  _uploadFilesContinue,\n",
              "};\n",
              "})(self);\n",
              "</script> "
            ]
          },
          "metadata": {}
        },
        {
          "output_type": "stream",
          "name": "stdout",
          "text": [
            "Saving Balanced_Dataset_with_Challenge_Level.csv to Balanced_Dataset_with_Challenge_Level (1).csv\n"
          ]
        }
      ],
      "source": [
        "from google.colab import files\n",
        "uploaded = files.upload()"
      ]
    },
    {
      "cell_type": "code",
      "source": [
        "#<<Train suggested sports based on player skills model>>\n",
        "import pandas as pd\n",
        "from sklearn.model_selection import train_test_split\n",
        "from sklearn.preprocessing import MultiLabelBinarizer\n",
        "from sklearn.ensemble import RandomForestClassifier\n",
        "from sklearn.metrics import classification_report\n",
        "import joblib\n",
        "\n",
        "# Load the dataset\n",
        "df = pd.read_csv(\"/content/Balanced_Dataset_with_Challenge_Level.csv\")\n",
        "\n",
        "# skills\n",
        "mlb_sport = MultiLabelBinarizer()\n",
        "skills_encoded = mlb_sport.fit_transform(df[\"Skills\"])\n",
        "skills_df = pd.DataFrame(skills_encoded, columns=mlb_sport.classes_)\n",
        "\n",
        "# Features: skills + height + weight\n",
        "X = pd.concat([skills_df.reset_index(drop=True), df[[\"Height_cm\", \"Weight_kg\"]].reset_index(drop=True)], axis=1)\n",
        "y = df[\"Preferred_Sport\"]\n",
        "\n",
        "# Split & train\n",
        "X_train, X_test, y_train, y_test = train_test_split(X, y, test_size=0.2, random_state=42)\n",
        "sport_model = RandomForestClassifier(random_state=42)\n",
        "sport_model.fit(X_train, y_train)\n",
        "\n",
        "y_pred = sport_model.predict(X_test)\n",
        "print(\"=== Sport Classification Report ===\")\n",
        "print(classification_report(y_test, y_pred))\n",
        "\n",
        "# Save model and encoder\n",
        "joblib.dump(sport_model, \"trained_sport_model.pkl\")\n",
        "joblib.dump(mlb_sport, \"skills_encoder.pkl\")"
      ],
      "metadata": {
        "colab": {
          "base_uri": "https://localhost:8080/"
        },
        "id": "AiV6EX9J4Q2D",
        "outputId": "04c012db-070e-4f60-9126-e40bec3975a3"
      },
      "execution_count": null,
      "outputs": [
        {
          "output_type": "stream",
          "name": "stdout",
          "text": [
            "=== Sport Classification Report ===\n",
            "               precision    recall  f1-score   support\n",
            "\n",
            "   Basketball       1.00      1.00      1.00         4\n",
            "       Boxing       0.71      0.83      0.77         6\n",
            "        Chess       1.00      1.00      1.00         3\n",
            "      Esports       1.00      0.67      0.80         6\n",
            "   Gymnastics       0.78      0.88      0.82         8\n",
            "      Parkour       0.62      0.83      0.71         6\n",
            "       Soccer       0.83      0.71      0.77         7\n",
            "     Swimming       0.88      0.88      0.88         8\n",
            "Track & Field       1.00      0.83      0.91         6\n",
            "\n",
            "     accuracy                           0.83        54\n",
            "    macro avg       0.87      0.85      0.85        54\n",
            " weighted avg       0.85      0.83      0.84        54\n",
            "\n"
          ]
        },
        {
          "output_type": "execute_result",
          "data": {
            "text/plain": [
              "['skills_encoder.pkl']"
            ]
          },
          "metadata": {},
          "execution_count": 18
        }
      ]
    },
    {
      "cell_type": "code",
      "source": [
        "#<<predict suggested sports based on player skills>>\n",
        "import numpy as np\n",
        "import joblib\n",
        "\n",
        "# Load model and encoder\n",
        "sport_model = joblib.load(\"trained_sport_model.pkl\")\n",
        "mlb_sport = joblib.load(\"skills_encoder.pkl\")\n",
        "\n",
        "# Input from user\n",
        "skills_input = input(\"Enter player's skills (comma-separated): \")\n",
        "height = int(input(\"Enter player's height (cm): \"))\n",
        "weight = int(input(\"Enter player's weight (kg): \"))\n",
        "\n",
        "# Process skills\n",
        "skills_list = [s.strip().capitalize() for s in skills_input.split(\",\")]\n",
        "skills_encoded = mlb_sport.transform([skills_list])\n",
        "input_vector = np.concatenate((skills_encoded[0], [height, weight])).reshape(1, -1)\n",
        "\n",
        "# Predict\n",
        "predicted_sport = sport_model.predict(input_vector)\n",
        "print(\"\\n suggested sports based on player skills:\", predicted_sport[0])"
      ],
      "metadata": {
        "colab": {
          "base_uri": "https://localhost:8080/"
        },
        "id": "2MgtQezg4ayR",
        "outputId": "14e8438d-1ea6-48c7-d3d5-69020e011039"
      },
      "execution_count": null,
      "outputs": [
        {
          "output_type": "stream",
          "name": "stdout",
          "text": [
            "Enter player's skills (comma-separated): Speed , Power  , Focus\n",
            "Enter player's height (cm): 178\n",
            "Enter player's weight (kg): 78\n",
            "\n",
            " suggested sports based on player skills: Basketball\n"
          ]
        },
        {
          "output_type": "stream",
          "name": "stderr",
          "text": [
            "/usr/local/lib/python3.11/dist-packages/sklearn/preprocessing/_label.py:909: UserWarning: unknown class(es) ['Focus', 'Power', 'Speed'] will be ignored\n",
            "  warnings.warn(\n",
            "/usr/local/lib/python3.11/dist-packages/sklearn/utils/validation.py:2739: UserWarning: X does not have valid feature names, but RandomForestClassifier was fitted with feature names\n",
            "  warnings.warn(\n"
          ]
        }
      ]
    },
    {
      "cell_type": "code",
      "source": [
        "#<<Train challenge Level Model>>\n",
        "\n",
        "# Skills already processed\n",
        "mlb_challenge = MultiLabelBinarizer()\n",
        "skills_encoded_challenge = mlb_challenge.fit_transform(df[\"Skills\"])\n",
        "skills_df_challenge = pd.DataFrame(skills_encoded_challenge, columns=mlb_challenge.classes_)\n",
        "\n",
        "# Features for challenge model\n",
        "X_c = pd.concat([skills_df_challenge.reset_index(drop=True), df[[\"Height_cm\", \"Weight_kg\"]].reset_index(drop=True)], axis=1)\n",
        "y_c = df[\"Challenge_Level\"]\n",
        "\n",
        "# Train-test split\n",
        "X_train_c, X_test_c, y_train_c, y_test_c = train_test_split(X_c, y_c, test_size=0.2, random_state=42)\n",
        "challenge_model = RandomForestClassifier(random_state=42)\n",
        "challenge_model.fit(X_train_c, y_train_c)\n",
        "\n",
        "y_pred_c = challenge_model.predict(X_test_c)\n",
        "print(\"=== Challenge Level Classification Report ===\")\n",
        "print(classification_report(y_test_c, y_pred_c))\n",
        "\n",
        "# Save model and encoder\n",
        "joblib.dump(challenge_model, \"trained_challenge_model.pkl\")\n",
        "joblib.dump(mlb_challenge, \"challenge_skills_encoder.pkl\")"
      ],
      "metadata": {
        "colab": {
          "base_uri": "https://localhost:8080/"
        },
        "id": "EOjcX4ylsQfr",
        "outputId": "4096775c-c005-4c4a-ede2-9776e8c095cd"
      },
      "execution_count": null,
      "outputs": [
        {
          "output_type": "stream",
          "name": "stdout",
          "text": [
            "=== Challenge Level Classification Report ===\n",
            "              precision    recall  f1-score   support\n",
            "\n",
            "        Easy       0.83      0.80      0.81        30\n",
            "        Hard       0.50      0.58      0.54        12\n",
            "      Medium       0.55      0.50      0.52        12\n",
            "\n",
            "    accuracy                           0.69        54\n",
            "   macro avg       0.62      0.63      0.62        54\n",
            "weighted avg       0.69      0.69      0.69        54\n",
            "\n"
          ]
        },
        {
          "output_type": "execute_result",
          "data": {
            "text/plain": [
              "['challenge_skills_encoder.pkl']"
            ]
          },
          "metadata": {},
          "execution_count": 14
        }
      ]
    },
    {
      "cell_type": "code",
      "source": [
        "#<< Predict challenge Level>>\n",
        "import numpy as np\n",
        "import joblib\n",
        "\n",
        "# Load challenge model and encoder\n",
        "challenge_model = joblib.load(\"trained_challenge_model.pkl\")\n",
        "mlb_challenge = joblib.load(\"challenge_skills_encoder.pkl\")\n",
        "\n",
        "skills_input = input(\"Enter player's skills (comma-separated): \")\n",
        "height = int(input(\"Enter player's height (cm): \"))\n",
        "weight = int(input(\"Enter player's weight (kg): \"))\n",
        "\n",
        "skills_list = [s.strip().capitalize() for s in skills_input.split(\",\")]\n",
        "skills_encoded = mlb_challenge.transform([skills_list])\n",
        "input_vector = np.concatenate((skills_encoded[0], [height, weight])).reshape(1, -1)\n",
        "\n",
        "predicted_level = challenge_model.predict(input_vector)\n",
        "print(\"\\nRecommended Challenge Level:\", predicted_level[0])"
      ],
      "metadata": {
        "colab": {
          "base_uri": "https://localhost:8080/"
        },
        "id": "nDZ_WolJsp6B",
        "outputId": "d6d4330a-6845-494e-e73f-c59cc0a71b20"
      },
      "execution_count": null,
      "outputs": [
        {
          "output_type": "stream",
          "name": "stdout",
          "text": [
            "Enter player's skills (comma-separated): Teamwork , Flexibility\n",
            "Enter player's height (cm): 179\n",
            "Enter player's weight (kg): 68\n",
            "\n",
            "Recommended Challenge Level: Easy\n"
          ]
        },
        {
          "output_type": "stream",
          "name": "stderr",
          "text": [
            "/usr/local/lib/python3.11/dist-packages/sklearn/preprocessing/_label.py:909: UserWarning: unknown class(es) ['Flexibility', 'Teamwork'] will be ignored\n",
            "  warnings.warn(\n",
            "/usr/local/lib/python3.11/dist-packages/sklearn/utils/validation.py:2739: UserWarning: X does not have valid feature names, but RandomForestClassifier was fitted with feature names\n",
            "  warnings.warn(\n"
          ]
        }
      ]
    }
  ]
}